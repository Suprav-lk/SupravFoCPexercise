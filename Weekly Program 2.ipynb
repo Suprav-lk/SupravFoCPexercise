{
 "cells": [
  {
   "cell_type": "markdown",
   "id": "696cbf7e",
   "metadata": {},
   "source": [
    "# Question1"
   ]
  },
  {
   "cell_type": "code",
   "execution_count": 1,
   "id": "8de6f4bb",
   "metadata": {},
   "outputs": [
    {
     "name": "stdout",
     "output_type": "stream",
     "text": [
      "Hello, what is your name?suprav\n",
      "Hello,Suprav. Good to meet you!\n"
     ]
    }
   ],
   "source": [
    "'''Last week you wrote a program that printed out\n",
    "a cheery greeting including your name. Take a copy of it, \n",
    "and modify it so that the user enters their name at the keyboard, \n",
    "and then receives a greeting. For example:\n",
    "Hello, what is your name? Mr Apricot\n",
    "Hello, Mr Apricot. Good to meet you!'''\n",
    "\n",
    "name = input(\"Hello, what is your name?\")\n",
    "name = name.title()\n",
    "print(f\"Hello,{name}. Good to meet you!\")\n"
   ]
  },
  {
   "cell_type": "markdown",
   "id": "0e1f7a30",
   "metadata": {},
   "source": [
    "# Question2"
   ]
  },
  {
   "cell_type": "code",
   "execution_count": 2,
   "id": "f65cedeb",
   "metadata": {},
   "outputs": [
    {
     "name": "stdout",
     "output_type": "stream",
     "text": [
      "Enter a temperature in Celsius: 12\n",
      "12.0C is equivalent to 53.6F.\n"
     ]
    }
   ],
   "source": [
    "'''Write a program that prompts a user to enter a temperature in Celsius,\n",
    "and then displays the corresponding temperature in Fahrenheit, \n",
    "like so:\n",
    "Enter a temperature in Celsius: 32.5\n",
    "32.5C is equivalent to 90.5F.'''\n",
    "\n",
    "celsius = float(input(\"Enter a temperature in Celsius: \"))\n",
    "fahrenheit = celsius * (9/5) + 32\n",
    "print(f\"{celsius}C is equivalent to {fahrenheit}F.\")"
   ]
  },
  {
   "cell_type": "markdown",
   "id": "5ad3a6ba",
   "metadata": {},
   "source": [
    "# Question3"
   ]
  },
  {
   "cell_type": "code",
   "execution_count": null,
   "id": "ad11e367",
   "metadata": {},
   "outputs": [],
   "source": [
    "'''The Head of Computing at the University of Poppleton is tasked with\n",
    "dividing a group of students into lab groups. A lab group is usually 24\n",
    "students, but this is sometimes varied to create groups of similar size. \n",
    "Write a program that prompts for the number of students and group size, \n",
    "and then displays how many groups will be needed and how many will be left\n",
    "over in a smaller group.\n",
    "How many students? 113\n",
    "Required group size? 22\n",
    "There will be 5 groups with 3 students left over.\n",
    "For bonus credit, see if you can fix the grammar in the output.\n",
    "So if there were 101 students in groups of 20 the output would be:\n",
    "There will be 5 groups with 1 student left over.'''\n",
    "\n",
    "try:\n",
    "    students = int(input(\"How many students? :\"))\n",
    "    size = int(input(\"Required group size? :\"))\n",
    "    \n",
    "    if students < 0 or size < 0:\n",
    "        raise Exception('No negative numbers')\n",
    "        \n",
    "    groups = students//size\n",
    "    rem = students % size\n",
    "    \n",
    "    if groups == 1 and rem != 1:\n",
    "        print(f\"There will be {groups} groups with {rem} students left over.\")\n",
    "    \n",
    "    elif group != 1 and rem==1:\n",
    "        print(f\"There will be {groups} groups with {rem} student left over.\")\n",
    "    \n",
    "    elif groups == 1 and rem == 1:\n",
    "        print(f\"There will be {groups} groups with {rem} student left over.\")\n",
    "        \n",
    "    else:\n",
    "        print(f\"There will be {groups} groups with {rem} students left over.\")\n",
    "except:\n",
    "    print(\"Intergers only!\")"
   ]
  },
  {
   "cell_type": "markdown",
   "id": "818a8fa2",
   "metadata": {},
   "source": [
    "# Question4"
   ]
  },
  {
   "cell_type": "code",
   "execution_count": 5,
   "id": "7f175f39",
   "metadata": {},
   "outputs": [
    {
     "name": "stdout",
     "output_type": "stream",
     "text": [
      "Number of pupils? 20\n",
      "How many sweets? 10\n",
      "Each student will get 2 sweets!\n",
      "Teacher will be left with 0 sweets!\n"
     ]
    }
   ],
   "source": [
    "'''A kindly teacher wishes to distribute a tub of sweets\n",
    "between her pupils. She will first count the sweets and \n",
    "then divide them according to how many pupils attend that day. \n",
    "Write a program that will tell the teacher how many sweets to \n",
    "give to each pupil, and how many she will have left over.'''\n",
    "\n",
    "pups = int(input(\"Number of pupils? \"))\n",
    "sweets = int(input(\"How many sweets? \"))\n",
    "\n",
    "get_sweet = pups // sweets #quotent\n",
    "rem_sweets = pups % sweets # remainder\n",
    "\n",
    "print(f\"Each student will get {get_sweet} sweets!\")\n",
    "print(f\"Teacher will be left with {rem_sweets} sweets!\")"
   ]
  },
  {
   "cell_type": "code",
   "execution_count": null,
   "id": "d6300c96",
   "metadata": {},
   "outputs": [],
   "source": []
  }
 ],
 "metadata": {
  "kernelspec": {
   "display_name": "Python 3 (ipykernel)",
   "language": "python",
   "name": "python3"
  },
  "language_info": {
   "codemirror_mode": {
    "name": "ipython",
    "version": 3
   },
   "file_extension": ".py",
   "mimetype": "text/x-python",
   "name": "python",
   "nbconvert_exporter": "python",
   "pygments_lexer": "ipython3",
   "version": "3.9.13"
  }
 },
 "nbformat": 4,
 "nbformat_minor": 5
}
