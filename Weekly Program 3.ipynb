{
 "cells": [
  {
   "cell_type": "markdown",
   "id": "592a1d4e",
   "metadata": {},
   "source": [
    "# Question1"
   ]
  },
  {
   "cell_type": "code",
   "execution_count": 7,
   "id": "0b55913a",
   "metadata": {},
   "outputs": [
    {
     "name": "stdout",
     "output_type": "stream",
     "text": [
      "Enter your name: \n",
      "Hello, Stranger!\n"
     ]
    }
   ],
   "source": [
    "'''Modify your greeting program so that if the user does not enter a \n",
    "name (i.e. they just press enter), \n",
    "the program responds \"Hello, Stranger!\". \n",
    "Otherwise it should print a greeting with their name as before.'''\n",
    "\n",
    "name = input(\"Enter your name: \")\n",
    "name = name.title()\n",
    "\n",
    "if not name:\n",
    "    print(\"Hello, Stranger!\")\n",
    "else:\n",
    "    print(f\"Hello, {name}!\")"
   ]
  },
  {
   "cell_type": "markdown",
   "id": "e6632ebe",
   "metadata": {},
   "source": [
    "# Question2"
   ]
  },
  {
   "cell_type": "code",
   "execution_count": 9,
   "id": "2e947bde",
   "metadata": {},
   "outputs": [
    {
     "name": "stdout",
     "output_type": "stream",
     "text": [
      "Enter password: 123\n",
      "Re-enter password: 123\n",
      "Password Set\n"
     ]
    }
   ],
   "source": [
    "'''Write a program that simulates the way in which a user\n",
    "might choose a password. The program should prompt for a new password,\n",
    "and then prompt again. If the two passwords entered are the \n",
    "same the program should say \"Password Set\" or similar, \n",
    "otherwise it should report an error.'''\n",
    "\n",
    "password = input(\"Enter password: \")\n",
    "confirm  = input(\"Re-enter password: \")\n",
    "\n",
    "if password == confirm:\n",
    "    print(\"Password Set\")\n",
    "else:\n",
    "    print(\"Error : Password does not match\")\n"
   ]
  },
  {
   "cell_type": "markdown",
   "id": "30230e54",
   "metadata": {},
   "source": [
    "# Question3"
   ]
  },
  {
   "cell_type": "code",
   "execution_count": 21,
   "id": "a42e3805",
   "metadata": {},
   "outputs": [
    {
     "name": "stdout",
     "output_type": "stream",
     "text": [
      "Enter password: leedsbeckett12345678910\n",
      "Password must have 8-12 characters only!\n",
      "Enter password: leedsbeckett123\n",
      "Password must have 8-12 characters only!\n",
      "Enter password: leeds123\n",
      "Re-enter password: leeds123\n",
      "Password Set\n"
     ]
    }
   ],
   "source": [
    "'''Modify your previous program so that the password must\n",
    "be between 8 and 12 characters (inclusive) long.'''\n",
    "\n",
    "while True:\n",
    "    password = input(\"Enter password: \")\n",
    "    if len(password)>=8 and len(password)<=12:\n",
    "        confirm  = input(\"Re-enter password: \")\n",
    "        if password == confirm:\n",
    "            print(\"Password Set\")\n",
    "            break\n",
    "        else:\n",
    "            print(\"Error : Password does not match\")\n",
    "            continue\n",
    "    else:\n",
    "        print(\"Password must have 8-12 characters only!\")\n",
    "        continue\n",
    "    "
   ]
  },
  {
   "cell_type": "markdown",
   "id": "5ff69ead",
   "metadata": {},
   "source": [
    "# Question4"
   ]
  },
  {
   "cell_type": "code",
   "execution_count": 22,
   "id": "59ed1670",
   "metadata": {},
   "outputs": [
    {
     "name": "stdout",
     "output_type": "stream",
     "text": [
      "Enter password: password\n",
      "Password not allowed! \n",
      "Enter password: password1234\n",
      "Re-enter password: password1234\n",
      "Password Set\n"
     ]
    }
   ],
   "source": [
    "'''Modify your program again so that the chosen password cannot \n",
    "be one of a list of\n",
    "common passwords, defined thus:\n",
    "BAD_PASSWORDS = ['password', 'letmein', 'sesame', 'hello', 'justinbieber']'''\n",
    "\n",
    "\n",
    "while True:\n",
    "    password = input(\"Enter password: \")\n",
    "    if len(password)>=8 and len(password)<=12:\n",
    "        \n",
    "        bad_password= ['password', 'letmein', 'sesame', 'hello', 'justinbieber']\n",
    "        if password in bad_password:\n",
    "            print(\"Password not allowed! \")\n",
    "            continue\n",
    "        else:\n",
    "            confirm  = input(\"Re-enter password: \")\n",
    "            if password == confirm:\n",
    "                print(\"Password Set\")\n",
    "                break\n",
    "            else:\n",
    "                print(\"Error : Password does not match\")\n",
    "                continue\n",
    "    else:\n",
    "        print(\"Password must have 8-12 characters only!\")\n",
    "        continue"
   ]
  },
  {
   "cell_type": "markdown",
   "id": "6f716524",
   "metadata": {},
   "source": [
    "# Question5"
   ]
  },
  {
   "cell_type": "code",
   "execution_count": 24,
   "id": "ce12dfc4",
   "metadata": {},
   "outputs": [
    {
     "name": "stdout",
     "output_type": "stream",
     "text": [
      "Enter password: helloworldfromleeds\n",
      "Password must have 8-12 characters only!\n",
      "Enter password: hellowrdleeds\n",
      "Password must have 8-12 characters only!\n",
      "Enter password: hello123#\n",
      "Re-enter password: hello123#\n",
      "Password Set\n"
     ]
    }
   ],
   "source": [
    "'''Modify your program a final time so that it executes \n",
    "until the user successfully chooses a password. \n",
    "That is, if the password chosen fails any of the checks, \n",
    "the program should return to asking for the password the first time.'''\n",
    "\n",
    "\n",
    "while True:\n",
    "    password = input(\"Enter password: \")\n",
    "    if len(password)>=8 and len(password)<=12:\n",
    "        \n",
    "        bad_password= ['password', 'letmein', 'sesame', 'hello', 'justinbieber']\n",
    "        if password in bad_password:\n",
    "            print(\"Password not allowed! \")\n",
    "            continue\n",
    "        else:\n",
    "            confirm  = input(\"Re-enter password: \")\n",
    "            if password == confirm:\n",
    "                print(\"Password Set\")\n",
    "                break\n",
    "            else:\n",
    "                print(\"Error : Password does not match\")\n",
    "                continue\n",
    "    else:\n",
    "        print(\"Password must have 8-12 characters only!\")\n",
    "        continue\n"
   ]
  },
  {
   "cell_type": "markdown",
   "id": "0e161bf7",
   "metadata": {},
   "source": [
    "# Question6"
   ]
  },
  {
   "cell_type": "code",
   "execution_count": 26,
   "id": "320edddd",
   "metadata": {},
   "outputs": [
    {
     "name": "stdout",
     "output_type": "stream",
     "text": [
      "7 * 0 = 0\n",
      "7 * 1 = 7\n",
      "7 * 2 = 14\n",
      "7 * 3 = 21\n",
      "7 * 4 = 28\n",
      "7 * 5 = 35\n",
      "7 * 6 = 42\n",
      "7 * 7 = 49\n",
      "7 * 8 = 56\n",
      "7 * 9 = 63\n",
      "7 * 10 = 70\n",
      "7 * 11 = 77\n",
      "7 * 12 = 84\n"
     ]
    }
   ],
   "source": [
    "'''Write a program that displays the \"Seven Times Table\". \n",
    "That is, the result of multiplying 7 by every number \n",
    "from 0 to 12 inclusive.'''\n",
    "\n",
    "num = 7\n",
    "for i in range(0,13):\n",
    "    print(f\"{num} * {i} = {num*i}\")\n"
   ]
  },
  {
   "cell_type": "markdown",
   "id": "ea1de81a",
   "metadata": {},
   "source": [
    "# Question7"
   ]
  },
  {
   "cell_type": "code",
   "execution_count": 30,
   "id": "a7ac46ef",
   "metadata": {},
   "outputs": [
    {
     "name": "stdout",
     "output_type": "stream",
     "text": [
      "Enter a number for it's times table: 2\n",
      "2 * 1 = 2\n",
      "2 * 2 = 4\n",
      "2 * 3 = 6\n",
      "2 * 4 = 8\n",
      "2 * 5 = 10\n",
      "2 * 6 = 12\n",
      "2 * 7 = 14\n",
      "2 * 8 = 16\n",
      "2 * 9 = 18\n",
      "2 * 10 = 20\n",
      "2 * 11 = 22\n",
      "2 * 12 = 24\n"
     ]
    }
   ],
   "source": [
    "'''Modify your \"Times Table\" program so that the user \n",
    "enters the number of the table\n",
    "they require. This number should be between 0 and 12 inclusive.'''\n",
    "\n",
    "num=int(input(\"Enter a number for it's times table: \"))\n",
    "\n",
    "for i in range(1,13):\n",
    "    print(f\"{num} * {i} = {num*i}\")"
   ]
  },
  {
   "cell_type": "markdown",
   "id": "01ef50a1",
   "metadata": {},
   "source": [
    "# Question8"
   ]
  },
  {
   "cell_type": "code",
   "execution_count": 33,
   "id": "2c9593ff",
   "metadata": {},
   "outputs": [
    {
     "name": "stdout",
     "output_type": "stream",
     "text": [
      "Enter number to get table: -7\n",
      "-7 * 12 = -84\n",
      "-7 * 11 = -77\n",
      "-7 * 10 = -70\n",
      "-7 * 9 = -63\n",
      "-7 * 8 = -56\n",
      "-7 * 7 = -49\n",
      "-7 * 6 = -42\n",
      "-7 * 5 = -35\n",
      "-7 * 4 = -28\n",
      "-7 * 3 = -21\n",
      "-7 * 2 = -14\n",
      "-7 * 1 = -7\n",
      "-7 * 0 = 0\n"
     ]
    }
   ],
   "source": [
    "'''Modify the \"Times Table\" again so that the user \n",
    "still enters the number of the table,\n",
    "but if this number is negative the table is printed backwards. \n",
    "So entering \"-7\" would produce the Seven Times Table starting \n",
    "at \"12 times\" down to \"0 times\".'''\n",
    "\n",
    "num = int(input(\"Enter number to get table: \"))\n",
    "\n",
    "if num >= 0:\n",
    "    for i in range(13):\n",
    "        print(f\"{num} * {i} = {num*i}\")\n",
    "        \n",
    "else:        \n",
    "    for i in range(12, -1, -1):\n",
    "        print(f\"{num} * {i} = {num*i}\")"
   ]
  }
 ],
 "metadata": {
  "kernelspec": {
   "display_name": "Python 3 (ipykernel)",
   "language": "python",
   "name": "python3"
  },
  "language_info": {
   "codemirror_mode": {
    "name": "ipython",
    "version": 3
   },
   "file_extension": ".py",
   "mimetype": "text/x-python",
   "name": "python",
   "nbconvert_exporter": "python",
   "pygments_lexer": "ipython3",
   "version": "3.9.13"
  }
 },
 "nbformat": 4,
 "nbformat_minor": 5
}
