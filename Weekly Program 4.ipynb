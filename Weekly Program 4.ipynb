{
 "cells": [
  {
   "cell_type": "markdown",
   "id": "456086be",
   "metadata": {},
   "source": [
    "# Question1:"
   ]
  },
  {
   "cell_type": "code",
   "execution_count": 10,
   "id": "f460400c",
   "metadata": {},
   "outputs": [
    {
     "name": "stdout",
     "output_type": "stream",
     "text": [
      "Enter a number to check if it is in range:82\n",
      "True\n"
     ]
    }
   ],
   "source": [
    "'''Functions are often used to validate input.\n",
    "Write a function that accepts a single integer as a parameter \n",
    "and returns True if the integer is in the range 0 to 100 (inclusive), \n",
    "or False otherwise. Write a short program to test the function.'''\n",
    "\n",
    "def in_range(num):\n",
    "    if num in range(0,101):\n",
    "        return True\n",
    "    else:\n",
    "        return False\n",
    "num = int(input(\"Enter a number to check if it is in range:\"))\n",
    "print(in_range(num))"
   ]
  },
  {
   "cell_type": "markdown",
   "id": "3c69c12f",
   "metadata": {},
   "source": [
    "# Question2:"
   ]
  },
  {
   "cell_type": "code",
   "execution_count": 17,
   "id": "f3c16dbb",
   "metadata": {},
   "outputs": [
    {
     "name": "stdout",
     "output_type": "stream",
     "text": [
      "Enter a word:LEEds\n",
      "('Lower letter:', 2, 'Upper letters:', 3)\n"
     ]
    }
   ],
   "source": [
    "'''Write a function that has a single string as its parameter,\n",
    "and returns the number of uppercase letters, and the number of \n",
    "lowercase letters in the string. Test the function with a short program.\n",
    "'''\n",
    "def upper_lower(word):\n",
    "    lower = 0\n",
    "    upper = 0\n",
    "    for i in word:\n",
    "        a = i\n",
    "        if i.lower()==a:\n",
    "            lower += 1\n",
    "        else:\n",
    "            upper += 1\n",
    "    return 'Lower letter:',lower,'Upper letters:',upper\n",
    "\n",
    "string = input(\"Enter a word:\")\n",
    "print(upper_lower(string))\n",
    "     "
   ]
  },
  {
   "cell_type": "markdown",
   "id": "3c92a266",
   "metadata": {},
   "source": [
    "# Question3:"
   ]
  },
  {
   "cell_type": "code",
   "execution_count": 19,
   "id": "d23c3f89",
   "metadata": {},
   "outputs": [
    {
     "name": "stdout",
     "output_type": "stream",
     "text": [
      "What is your name? :arTHur\n"
     ]
    },
    {
     "data": {
      "text/plain": [
       "'Arthur'"
      ]
     },
     "execution_count": 19,
     "metadata": {},
     "output_type": "execute_result"
    }
   ],
   "source": [
    "'''Modify your \"greetings\" program so that the first letter of \n",
    "the name entered is always in uppercase with the rest in lowercase. \n",
    "This should happen even if the user entered their name differently.\n",
    "So if the user entered arthur, ARTHUR, or even arTHur the name \n",
    "should be displayed as Arthur.'''\n",
    "\n",
    "def greeting(word):\n",
    "    word = word.title()\n",
    "    return word\n",
    "\n",
    "name = input(\"What is your name? :\")\n",
    "greeting(name)\n",
    "    "
   ]
  },
  {
   "cell_type": "markdown",
   "id": "9fdc61f0",
   "metadata": {},
   "source": [
    "# Question4:"
   ]
  },
  {
   "cell_type": "code",
   "execution_count": 33,
   "id": "108d73b9",
   "metadata": {},
   "outputs": [
    {
     "name": "stdout",
     "output_type": "stream",
     "text": [
      "Enter a word: Happy\n",
      " Happ\n"
     ]
    }
   ],
   "source": [
    "'''When processing data it is often useful to remove the last character \n",
    "from some input (it is often a newline). \n",
    "Write and test a function that takes a string parameter and \n",
    "returns it with the last character removed.\n",
    "(If the string contains one or fewer characters, return it unchanged.)'''\n",
    "\n",
    "def remove_last_char(word):\n",
    "    new_word = []\n",
    "    get_new = \" \"\n",
    "    \n",
    "    for i in word:\n",
    "        new_word += i\n",
    "    last_remove = new_word[:-1]\n",
    "    \n",
    "    for i in last_remove:\n",
    "        get_new += i\n",
    "    \n",
    "    print(get_new)\n",
    "\n",
    "input_word = input(\"Enter a word: \")\n",
    "remove_last_char(input_word)"
   ]
  },
  {
   "cell_type": "markdown",
   "id": "abea4dbe",
   "metadata": {},
   "source": [
    "# Question5:"
   ]
  },
  {
   "cell_type": "code",
   "execution_count": 43,
   "id": "a6b9c23e",
   "metadata": {},
   "outputs": [
    {
     "name": "stdout",
     "output_type": "stream",
     "text": [
      "What do you want to convert?\n",
      "1) Celsius to Fahrenheit Conversion\n",
      "2) Fahrenheit to Celsius Conversion 1\n",
      "Enter temperature to convert Celsius to Fahrenheit: 23\n",
      "Celsius 23.0 to Fahrenheit is :73.4\n"
     ]
    }
   ],
   "source": [
    "'''Write and test a function that converts a temperature measured \n",
    "in degrees centigrade into the equivalent in fahrenheit, \n",
    "and another that does the reverse conversion. Test both functions. \n",
    "(Google will find you the formulae).'''\n",
    "\n",
    "def cel_to_fahren(temp):\n",
    "    fahren = temp * (9/5) + 32\n",
    "    return fahren\n",
    "\n",
    "def fahren_to_cel(temp):\n",
    "    celsius = (temp-32) * (5/9)\n",
    "    return celsius\n",
    "\n",
    "choice = int(input('''What do you want to convert?\n",
    "1) Celsius to Fahrenheit Conversion\n",
    "2) Fahrenheit to Celsius Conversion '''))\n",
    "\n",
    "if choice == 1:\n",
    "    temp = float(input(\"Enter temperature to convert Celsius to Fahrenheit: \"))\n",
    "    fah = cel_to_fahren(temp)\n",
    "    print(f\"Celsius {temp} to Fahrenheit is :{fah}\")\n",
    "\n",
    "if choice == 2:\n",
    "    temp = float(input(\"Enter temperature to convert Fahrenheit to Celsius: \"))\n",
    "    cel = fahren_to_cel(temp)\n",
    "    print(f\"Fahrenheit {temp} to Celsius is :{cel}\")"
   ]
  },
  {
   "cell_type": "markdown",
   "id": "537b936a",
   "metadata": {},
   "source": [
    "# Question6:"
   ]
  },
  {
   "cell_type": "code",
   "execution_count": null,
   "id": "516b554d",
   "metadata": {},
   "outputs": [],
   "source": [
    "'''Write a program that takes a centigrade temperature and\n",
    "displays the equivalent in fahrenheit. \n",
    "The input should be a number followed by a letter C. \n",
    "The output should be in the same format.'''\n",
    "\n",
    "temp = input(\"Enter temperature in celsius (eg: 30C): \")\n",
    "x = temp[-1]\n",
    "x = x.lower()\n",
    "y = temp[:-1]\n",
    "try:\n",
    "    y = float(y)\n",
    "    if (x == \"c\"):\n",
    "        fah = y * (9/5) - 32\n",
    "        print(f\"{y}C = {fah}F\")\n",
    "    else:\n",
    "        print(\"Invalid unit\")\n",
    "    \n",
    "except:\n",
    "    print(\"Enter valid number then unit\")"
   ]
  },
  {
   "cell_type": "markdown",
   "id": "b4a479bc",
   "metadata": {},
   "source": [
    "# Question7:"
   ]
  },
  {
   "cell_type": "code",
   "execution_count": 48,
   "id": "75ad3ed1",
   "metadata": {},
   "outputs": [
    {
     "name": "stdout",
     "output_type": "stream",
     "text": [
      "Enter temperature for average: 12\n",
      "Enter temperature for average: 34\n",
      "Enter temperature for average: 456\n",
      "Enter temperature for average: 23\n",
      "Enter temperature for average: 34\n",
      "Enter temperature for average: 4\n",
      "The maximum value is:  456.0\n",
      "The minimum value is:  4.0\n",
      "The mean is:  93.83333333333333\n"
     ]
    }
   ],
   "source": [
    "'''Write a program that reads 6 temperatures\n",
    "(in the same format as before), and displays the maximum, \n",
    "minimum, and mean of the values.'''\n",
    "\n",
    "from statistics import mean\n",
    "\n",
    "def maximum(num):\n",
    "    return max(num)\n",
    "\n",
    "def minimum(num):\n",
    "    return min(num)\n",
    "\n",
    "def means(num):\n",
    "    return mean(num)\n",
    "\n",
    "val = []\n",
    "\n",
    "for i in range(6):\n",
    "    value = float(input(\"Enter temperature for average: \"))\n",
    "    val.append(value)\n",
    "\n",
    "print(\"The maximum value is: \",maximum(val))\n",
    "print(\"The minimum value is: \",minimum(val))\n",
    "print(\"The mean is: \",means(val))"
   ]
  },
  {
   "cell_type": "markdown",
   "id": "7a6ff5e7",
   "metadata": {},
   "source": [
    "# Question8:"
   ]
  },
  {
   "cell_type": "code",
   "execution_count": 49,
   "id": "9d8ebf66",
   "metadata": {},
   "outputs": [
    {
     "name": "stdout",
     "output_type": "stream",
     "text": [
      "Enter temperature for average: 23\n",
      "Enter temperature for average: 34\n",
      "Enter temperature for average: 56\n",
      "Enter temperature for average: 34\n",
      "Enter temperature for average: 4\n",
      "Enter temperature for average: 23\n",
      "Enter temperature for average: 5\n",
      "Enter temperature for average: 23\n",
      "Enter temperature for average: 23\n",
      "Enter temperature for average: 23\n",
      "Enter temperature for average: \n",
      "The maximum value is:  56.0\n",
      "The minimum value is:  4.0\n",
      "The mean is:  24.8\n"
     ]
    }
   ],
   "source": [
    "'''Modify the previous program so that it can process any number\n",
    "of values. The input terminates when the user\n",
    "just pressed \"Enter\" at the prompt rather than entering a value.'''\n",
    "\n",
    "from statistics import mean\n",
    "\n",
    "def maximum(num):\n",
    "    return max(num)\n",
    "\n",
    "def minimum(num):\n",
    "    return min(num)\n",
    "\n",
    "def means(num):\n",
    "    return mean(num)\n",
    "\n",
    "val = []\n",
    "while True:\n",
    "    try:\n",
    "        value = float(input(\"Enter temperature for average: \"))\n",
    "    except ValueError:\n",
    "        break\n",
    "        \n",
    "    val.append(value)\n",
    "\n",
    "try:\n",
    "    print(\"The maximum value is: \",maximum(val))\n",
    "    print(\"The minimum value is: \",minimum(val))\n",
    "    print(\"The mean is: \",means(val))\n",
    "except ValueError:\n",
    "    print(\"Enter at least one value\")"
   ]
  }
 ],
 "metadata": {
  "kernelspec": {
   "display_name": "Python 3 (ipykernel)",
   "language": "python",
   "name": "python3"
  },
  "language_info": {
   "codemirror_mode": {
    "name": "ipython",
    "version": 3
   },
   "file_extension": ".py",
   "mimetype": "text/x-python",
   "name": "python",
   "nbconvert_exporter": "python",
   "pygments_lexer": "ipython3",
   "version": "3.9.13"
  }
 },
 "nbformat": 4,
 "nbformat_minor": 5
}
