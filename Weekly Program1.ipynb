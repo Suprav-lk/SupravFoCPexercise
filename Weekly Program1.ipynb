{
 "cells": [
  {
   "cell_type": "markdown",
   "id": "0e0a89e4",
   "metadata": {},
   "source": [
    "# Question1"
   ]
  },
  {
   "cell_type": "code",
   "execution_count": 1,
   "id": "bc4fc76c",
   "metadata": {},
   "outputs": [
    {
     "name": "stdout",
     "output_type": "stream",
     "text": [
      "Hello World\n"
     ]
    }
   ],
   "source": [
    "'''Write a program that prints a cheery message (such as \"Hello World\")\n",
    "on the screen. Run it, and note that you have taken the first step to \n",
    "becoming a programmer!'''\n",
    "\n",
    "print(\"Hello World\")"
   ]
  },
  {
   "cell_type": "markdown",
   "id": "fcf13760",
   "metadata": {},
   "source": [
    "# Question2"
   ]
  },
  {
   "cell_type": "code",
   "execution_count": 3,
   "id": "c4de65d0",
   "metadata": {},
   "outputs": [
    {
     "name": "stdout",
     "output_type": "stream",
     "text": [
      "Hello,Suprav!\n"
     ]
    }
   ],
   "source": [
    "'''Make a copy of the previous program, and modify it so that it \n",
    "displays your name. So if your name is Herbert the message should\n",
    "become:\n",
    "Hello, Herbert!'''\n",
    "\n",
    "my_name = \"Suprav\"\n",
    "print(f\"Hello,{my_name}!\")"
   ]
  },
  {
   "cell_type": "markdown",
   "id": "c257505b",
   "metadata": {},
   "source": [
    "# Question3"
   ]
  },
  {
   "cell_type": "code",
   "execution_count": 5,
   "id": "5e9c5682",
   "metadata": {},
   "outputs": [
    {
     "name": "stdout",
     "output_type": "stream",
     "text": [
      "38.4 in celsius is equal to 101.12 in fahrenheit\n"
     ]
    }
   ],
   "source": [
    "'''Over the summer, temperatures in Yorkshire reached 38.4C. \n",
    "Write a program that converts this value in Celsius to the \n",
    "equivalent temperature in Fahrenheit, and then displays both.'''\n",
    "\n",
    "celsius = 38.4\n",
    "fah = celsius * (9/5) + 32\n",
    "\n",
    "print(f\"{celsius} in celsius is equal to {fah} in fahrenheit\")"
   ]
  },
  {
   "cell_type": "markdown",
   "id": "b93017fd",
   "metadata": {},
   "source": [
    "# Question4"
   ]
  },
  {
   "cell_type": "code",
   "execution_count": 6,
   "id": "e1e13cf8",
   "metadata": {},
   "outputs": [
    {
     "name": "stdout",
     "output_type": "stream",
     "text": [
      "Boycott had an average of 56.83802816901409 runs in 609 matches\n"
     ]
    }
   ],
   "source": [
    "'''In a long career for Yorkshire, Geoffrey Boycott played 609 matches,\n",
    "batted 1014 times, was not out 162 times, and scored 48426 runs.\n",
    "Write a program to calculate and display Boycott's batting average.'''\n",
    "\n",
    "matches = 609\n",
    "batted = 1014\n",
    "not_out = 162\n",
    "runs = 48426\n",
    "\n",
    "innings = batted - not_out\n",
    "average = runs/innings\n",
    "\n",
    "print(f\"Boycott had an average of {average} runs in {matches} matches\")"
   ]
  },
  {
   "cell_type": "markdown",
   "id": "e0a4c2ba",
   "metadata": {},
   "source": [
    "# Question5"
   ]
  },
  {
   "cell_type": "code",
   "execution_count": 9,
   "id": "89bf960d",
   "metadata": {},
   "outputs": [
    {
     "name": "stdout",
     "output_type": "stream",
     "text": [
      "There will be 11 groups with 36 leftover students.\n"
     ]
    }
   ],
   "source": [
    "'''The Head of Computing at the University of Poppleton is tasked with\n",
    "dividing a group of students into lab groups. A lab group is 24 students, \n",
    "since this is the number of PCs in a lab. Write a program that\n",
    "calculates how many groups are needed for the following number of \n",
    "students: 113, 175, 12. Display how many full groups there will be, \n",
    "and how many students will be in the smaller \"left over\" group.'''\n",
    "\n",
    "\n",
    "group_size = 24\n",
    "\n",
    "student_one = 113\n",
    "student_two = 175\n",
    "student_three = 12\n",
    "\n",
    "group_1 = student_one // group_size\n",
    "group_2 = student_two // group_size\n",
    "group_3 = student_three // group_size\n",
    "total_groups = group_1 + group_2 + group_3\n",
    "\n",
    "remaining_1 = student_one % group_size\n",
    "remaining_2 = student_two % group_size\n",
    "remaining_3 = student_three % group_size\n",
    "left_over = remaining_1 + remaining_2 + remaining_3\n",
    "\n",
    "print(f\"There will be {total_groups} groups with {left_over} leftover students.\")\n",
    "\n"
   ]
  },
  {
   "cell_type": "code",
   "execution_count": null,
   "id": "1721a237",
   "metadata": {},
   "outputs": [],
   "source": []
  }
 ],
 "metadata": {
  "kernelspec": {
   "display_name": "Python 3 (ipykernel)",
   "language": "python",
   "name": "python3"
  },
  "language_info": {
   "codemirror_mode": {
    "name": "ipython",
    "version": 3
   },
   "file_extension": ".py",
   "mimetype": "text/x-python",
   "name": "python",
   "nbconvert_exporter": "python",
   "pygments_lexer": "ipython3",
   "version": "3.9.13"
  }
 },
 "nbformat": 4,
 "nbformat_minor": 5
}
