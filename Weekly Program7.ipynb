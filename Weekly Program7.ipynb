{
 "cells": [
  {
   "cell_type": "markdown",
   "id": "7152855f",
   "metadata": {},
   "source": [
    "# Question 1:\n"
   ]
  },
  {
   "cell_type": "code",
   "execution_count": 1,
   "id": "ab94255e",
   "metadata": {},
   "outputs": [
    {
     "name": "stdout",
     "output_type": "stream",
     "text": [
      "Enter a word: cheese\n",
      "['h', 'c', 'e', 's']\n"
     ]
    }
   ],
   "source": [
    "\"\"\"Write and test a function that takes a string as a parameter and \n",
    "returns a sorted list of all the unique letters used in the string. \n",
    "So, if the string is cheese, the list returned should be ['c', 'e', 'h', 's'].\"\"\"\n",
    "\n",
    "def input_str(): #function definition\n",
    "    '''This function will take input from user and returns a \n",
    "    sorted list of all the unique letters used from the user's input'''\n",
    "    \n",
    "    word = input(\"Enter a word: \") #input from the user \n",
    "    set_word=set(word) #convesion to set to remove duplicates\n",
    "    list_word=list(set_word) #type conversion to list \n",
    "    print(list_word)\n",
    "\n",
    "input_str() #function call"
   ]
  },
  {
   "cell_type": "markdown",
   "id": "c95bbd0b",
   "metadata": {},
   "source": [
    "# Question 2: "
   ]
  },
  {
   "cell_type": "code",
   "execution_count": null,
   "id": "ddfc0ce3",
   "metadata": {
    "scrolled": true
   },
   "outputs": [],
   "source": [
    "\"\"\"Write and test three functions that each take two words (strings) as parameters and return sorted lists\n",
    "(as defined above) representing respectively:\n",
    "Letters that appear in at least one of the two words. Letters that appear in both words.\n",
    "Letters that appear in either word, but not in both.\"\"\"\n",
    "\n",
    "def common(word_one,word_two): #intersection\n",
    "    return sorted(set(word_one) & set(word_two))\n",
    "\n",
    "def uncommon(word_one,word_two): #difference\n",
    "    return list(sorted(set(word_one) - set(word_two)))\n",
    "\n",
    "def sym_diff(word_one,word_two): #symmetric_difference\n",
    "    return list(sorted(set(word_one) ^ set(word_two)))\n",
    "\n",
    "word_one = input(\"Enter a word: \")\n",
    "word_two = input(\"Enter another word: \")\n",
    "\n",
    "print(\"Common Letters: \",common(word_one,word_two))\n",
    "print(\"Uncommon Letters: \",uncommon(word_one,word_two))\n",
    "print(\"Common and uncommon letters: \",sym_diff(word_one,word_two))"
   ]
  },
  {
   "cell_type": "markdown",
   "id": "bb0a2d4d",
   "metadata": {},
   "source": [
    "# Question3:\n",
    "   "
   ]
  },
  {
   "cell_type": "code",
   "execution_count": 34,
   "id": "66c84d2b",
   "metadata": {},
   "outputs": [
    {
     "name": "stdout",
     "output_type": "stream",
     "text": [
      "Which country's capital city do you want to know? china\n",
      "Beijing\n",
      "Do you want to continue? (y/n): y\n",
      "Which country's capital city do you want to know? nepal\n",
      "Kathmandu\n",
      "Do you want to continue? (y/n): n\n"
     ]
    }
   ],
   "source": [
    "\"\"\"Write a program that manages a list of countries and their capital cities. \n",
    "It should prompt the user to enter the name of a country. If the program already \"knows\" \n",
    "the name of the capital city, it should display it. Otherwise it should ask the user to enter it.\n",
    "This should carry on until the user terminates the program (how this happens is up to you).\"\"\"\n",
    "\n",
    "\n",
    "\n",
    "country_capital = {\n",
    "    'Nepal':'Kathmandu',\n",
    "    'England':'London',\n",
    "    'China':'Beijing',\n",
    "    'Germany':'Berlin',\n",
    "    'Japan':'Tokyo',\n",
    "    \n",
    "}\n",
    "\n",
    "while True:\n",
    "    \n",
    "    user_question = input(\"Which country's capital city do you want to know? \")\n",
    "    user_question.lower()\n",
    "    found = False\n",
    "    \n",
    "    for i in country_capital:\n",
    "        found=True\n",
    "        if i.lower()==user_question:\n",
    "            print(country_capital[i])\n",
    "            \n",
    "            \n",
    "    if found==False:\n",
    "        print(\"Country not found\")\n",
    "        \n",
    "        \n",
    "    contd = input(\"Do you want to continue? (y/n): \")\n",
    "    contd.lower()\n",
    "    if contd==\"n\" or contd==\"no\":\n",
    "        break\n",
    "    elif contd=='y' or contd==\"yes\":\n",
    "        continue\n",
    "        \n",
    "        \n",
    "# print(country)\n",
    "# print(capital)\n",
    "\n",
    "# dict_country = dict(countries=capital) #conversion to dictionary\n",
    "# print(dict_country)"
   ]
  },
  {
   "cell_type": "markdown",
   "id": "99cced58",
   "metadata": {},
   "source": [
    "# Question4:"
   ]
  },
  {
   "cell_type": "code",
   "execution_count": 3,
   "id": "5879e0f3",
   "metadata": {},
   "outputs": [
    {
     "name": "stdout",
     "output_type": "stream",
     "text": [
      "Enter a message:Hello World\n",
      "l:3\n",
      "o:2\n",
      "H:1\n",
      "e:1\n",
      "W:1\n",
      "r:1\n"
     ]
    }
   ],
   "source": [
    "\"\"\"One approach to analysing some encrypted data where a substitution is suspected is frequency analysis.\n",
    "A count of the different symbols in the message can be used to identify the language used, and sometimes \n",
    "some of the letters. In English, the most common letter is \"e\", and so the symbol representing \"e\" should \n",
    "appear most in the encrypted text.\n",
    "Write a program that processes a string representing a message and reports the six most common letters, \n",
    "along with the number of times they appear. Case should not matter, so \"E\" and \"e\" are considered the same.\"\"\"\n",
    "\n",
    "input_msg = input(\"Enter a message:\")\n",
    "input_msg.lower()\n",
    "letter = []\n",
    "\n",
    "for i in input_msg:\n",
    "    if (ord(i)>=97 and ord(i)<=122) or (ord(i)>=65 and ord(i)<=90):\n",
    "        letter.append(i)\n",
    "        \n",
    "frequency = {}\n",
    "for i in letter:\n",
    "    frequency[i] = frequency.get(i, 0) + 1 # access value of i or else defuault value 0.\n",
    "    \n",
    "sorted_frequency = sorted(frequency.items(),key = lambda x:x[1],reverse=True)\n",
    "\n",
    "for i in range(min(6, len(sorted_frequency))): #calculates the min between 6 and length of the sorted freq\n",
    "    print(f\"{sorted_frequency[i][0]}:{sorted_frequency[i][1]}\") #first element of i in a form of tuple and second element of i \n",
    "    "
   ]
  },
  {
   "cell_type": "code",
   "execution_count": null,
   "id": "69330260",
   "metadata": {},
   "outputs": [],
   "source": []
  }
 ],
 "metadata": {
  "kernelspec": {
   "display_name": "Python 3 (ipykernel)",
   "language": "python",
   "name": "python3"
  },
  "language_info": {
   "codemirror_mode": {
    "name": "ipython",
    "version": 3
   },
   "file_extension": ".py",
   "mimetype": "text/x-python",
   "name": "python",
   "nbconvert_exporter": "python",
   "pygments_lexer": "ipython3",
   "version": "3.9.13"
  }
 },
 "nbformat": 4,
 "nbformat_minor": 5
}
