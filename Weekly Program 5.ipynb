{
 "cells": [
  {
   "cell_type": "markdown",
   "id": "39942420",
   "metadata": {},
   "source": [
    "# Question1:"
   ]
  },
  {
   "cell_type": "code",
   "execution_count": null,
   "id": "5ec79a8f",
   "metadata": {},
   "outputs": [],
   "source": [
    "'''Using command-line arguments involves the sys module. \n",
    "Review the docs for this module and using the information in there \n",
    "write a short program that when run from the command-line reports \n",
    "what operating system platform is being used.'''\n",
    "\n",
    "import sys \n",
    "path = sys.platform\n",
    "print(f\"The system platform is {path}\")"
   ]
  },
  {
   "cell_type": "markdown",
   "id": "8bc20f2f",
   "metadata": {},
   "source": [
    "# Question2:"
   ]
  },
  {
   "cell_type": "code",
   "execution_count": null,
   "id": "39391046",
   "metadata": {},
   "outputs": [],
   "source": [
    "'''Write a program that, when run from the command line, \n",
    "reports how many arguments were provided. \n",
    "(Remember that the program name itself is not an argument).'''\n",
    "\n",
    "import sys\n",
    "args = sys.argv[1]\n",
    "print(f\"There are {len(args)} arguments.\")"
   ]
  },
  {
   "cell_type": "markdown",
   "id": "e0930ae3",
   "metadata": {},
   "source": [
    "# Question3:"
   ]
  },
  {
   "cell_type": "code",
   "execution_count": null,
   "id": "58e372cd",
   "metadata": {},
   "outputs": [],
   "source": [
    "'''Write a program that takes a bunch of command-line arguments, \n",
    "and then prints out the shortest. If there is more than one of the \n",
    "shortest length, any will do.'''\n",
    "\n",
    "import sys\n",
    "\n",
    "smallest = sys.arvg[1:]\n",
    "small.sort()\n",
    "print(f\"The smallest is: {smallest[0]}\")"
   ]
  },
  {
   "cell_type": "markdown",
   "id": "4850df55",
   "metadata": {},
   "source": [
    "# Question4:"
   ]
  },
  {
   "cell_type": "code",
   "execution_count": null,
   "id": "85e04269",
   "metadata": {},
   "outputs": [],
   "source": [
    "'''Write a program that takes a URL as a command-line argument \n",
    "and reports whether or not there is a working website at that address.\n",
    "Hint: You need to get the HTTP response code.'''\n",
    "\n",
    "import sys\n",
    "import requests\n",
    "\n",
    "url = sys.argv[1]\n",
    "response = requests.get(url)\n",
    "print(response)"
   ]
  },
  {
   "cell_type": "markdown",
   "id": "04b5feda",
   "metadata": {},
   "source": [
    "# Question5:"
   ]
  },
  {
   "cell_type": "code",
   "execution_count": null,
   "id": "86288ad8",
   "metadata": {},
   "outputs": [],
   "source": [
    "'''Last week you wrote a program that processed a collection of \n",
    "temperature readings entered by the user and displayed the maximum, \n",
    "minimum, and mean. Create a version of that program that takes\n",
    "the values from the command-line instead. \n",
    "Be sure to handle the case where no arguments are provided!'''\n",
    "\n",
    "from statistics import mean\n",
    "import sys\n",
    "\n",
    "def maximum(num):\n",
    "    return max(num)\n",
    "\n",
    "def minimum(num):\n",
    "    return min(num)\n",
    "\n",
    "def means(num):\n",
    "    return mean(num)\n",
    "\n",
    "if len(sys.argv) == 7:\n",
    "    vals = sys.argv[1:7]\n",
    "    vals = [int(x) for x in vals]\n",
    "    print(\"Max =\",maximum(vals))\n",
    "    print(\"Min =\",minimum(vals))\n",
    "    print(\"Mean =\",mean(vals))\n",
    "    \n",
    "elif len(sys.argv)==1:\n",
    "    print(\"Enter at least one argument\")\n",
    "\n",
    "elif len(sys.argv)>7:\n",
    "    print(\"Too many arguments\")\n",
    "    \n",
    "else:\n",
    "    print(\"Too less arguments\")\n",
    "       "
   ]
  },
  {
   "cell_type": "markdown",
   "id": "4137b752",
   "metadata": {},
   "source": [
    "# Question6:"
   ]
  },
  {
   "cell_type": "code",
   "execution_count": null,
   "id": "b97d78c1",
   "metadata": {},
   "outputs": [],
   "source": [
    "'''Write a program that takes the name of a file as a \n",
    "command-line argument, and creates a backup copy of that file. \n",
    "The backup should contain an exact copy of the contents of \n",
    "the original and should, obviously, have a different name.'''\n",
    "\n",
    "import sys\n",
    "\n",
    "file = sys.argv[1]\n",
    "with open(file,'rt')as orginial:\n",
    "    lines = original.read()\n",
    "    \n",
    "with open(\"Backup.txt\",'w') as copy:\n",
    "    copy.write(lines) "
   ]
  }
 ],
 "metadata": {
  "kernelspec": {
   "display_name": "Python 3 (ipykernel)",
   "language": "python",
   "name": "python3"
  },
  "language_info": {
   "codemirror_mode": {
    "name": "ipython",
    "version": 3
   },
   "file_extension": ".py",
   "mimetype": "text/x-python",
   "name": "python",
   "nbconvert_exporter": "python",
   "pygments_lexer": "ipython3",
   "version": "3.9.13"
  }
 },
 "nbformat": 4,
 "nbformat_minor": 5
}
