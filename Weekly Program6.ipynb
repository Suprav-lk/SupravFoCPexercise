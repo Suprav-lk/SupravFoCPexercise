{
 "cells": [
  {
   "cell_type": "markdown",
   "id": "4df7d204",
   "metadata": {},
   "source": [
    "# Question1:"
   ]
  },
  {
   "cell_type": "code",
   "execution_count": 4,
   "id": "b92c8e5a",
   "metadata": {},
   "outputs": [
    {
     "name": "stdout",
     "output_type": "stream",
     "text": [
      "Enter a number to convert into binary:10\n",
      "1010\n"
     ]
    }
   ],
   "source": [
    "\"\"\"Write a function that accepts a positive integer as a parameter and \n",
    "then returns a representation of that number in binary (base 2).\"\"\"\n",
    "\n",
    "def convert(num):\n",
    "    c = '' #empty string\n",
    "    \n",
    "    while num!=0:\n",
    "        num1 = num/2\n",
    "        num = num//2\n",
    "        \n",
    "        if num1==num:\n",
    "            number = '0'\n",
    "        else:\n",
    "            number = '1'\n",
    "        \n",
    "        c = number+c\n",
    "    \n",
    "    if c != '':\n",
    "        return c\n",
    "    else:\n",
    "        return '0'\n",
    "    \n",
    "number = int(input(\"Enter a number to convert into binary:\"))\n",
    "print(convert(number))"
   ]
  },
  {
   "cell_type": "markdown",
   "id": "4aec355b",
   "metadata": {},
   "source": [
    "# Question2:"
   ]
  },
  {
   "cell_type": "code",
   "execution_count": 6,
   "id": "0b9f4173",
   "metadata": {},
   "outputs": [
    {
     "name": "stdout",
     "output_type": "stream",
     "text": [
      "Enter a number: 10\n",
      "[1, 2, 5, 10]\n"
     ]
    }
   ],
   "source": [
    "'''Write and test a function that takes an integer as its parameter and\n",
    "returns the factors of that integer. (A factor is an integer \n",
    "which can be multiplied by another to yield the original).'''\n",
    "\n",
    "def factor(num):\n",
    "    fac = []\n",
    "    for i in range(1,num+1):\n",
    "        if num%i==0:\n",
    "            fac.append(i)\n",
    "    return fac\n",
    "\n",
    "num = int(input(\"Enter a number: \"))\n",
    "print(factor(num))"
   ]
  },
  {
   "cell_type": "markdown",
   "id": "2bba93d8",
   "metadata": {},
   "source": [
    "# Question3:"
   ]
  },
  {
   "cell_type": "code",
   "execution_count": 7,
   "id": "23475b31",
   "metadata": {},
   "outputs": [
    {
     "name": "stdout",
     "output_type": "stream",
     "text": [
      "Enter number: 2\n",
      "It is a prime number\n"
     ]
    }
   ],
   "source": [
    "'''Write and test a function that determines if a given integer \n",
    "is a prime number. A prime number is an integer greater than 1 that\n",
    "cannot be produced by multiplying two other integers.'''\n",
    "\n",
    "def prime(num):\n",
    "    fact = []\n",
    "    \n",
    "    for i in range(1,num+1):\n",
    "        if num % i == 0:\n",
    "            fact.append(i)\n",
    "    return fact\n",
    "\n",
    "num = int(input(\"Enter number: \"))\n",
    "fact = prime(num)\n",
    "\n",
    "if len(fact)==2:\n",
    "    print(\"It is a prime number\")\n",
    "else:\n",
    "    print(\"It is not a prime number\")"
   ]
  },
  {
   "cell_type": "markdown",
   "id": "2ec02309",
   "metadata": {},
   "source": [
    "# Question4:"
   ]
  },
  {
   "cell_type": "code",
   "execution_count": 10,
   "id": "67a03e21",
   "metadata": {},
   "outputs": [
    {
     "name": "stdout",
     "output_type": "stream",
     "text": [
      "Enter a password: encrypts\n",
      "Encoded password is stpyrcne\n"
     ]
    }
   ],
   "source": [
    "'''Computers are commonly used in encryption.\n",
    "A very simple form of encryption (more accurately \"obfuscation\") \n",
    "would be to remove the spaces from a message and reverse the resulting \n",
    "string. Write, and test, a function that takes a string containing \n",
    "a message and \"encrypts\" it in this way.'''\n",
    "\n",
    "def encrypt(pwd):\n",
    "    new = ''\n",
    "    for i in pwd:\n",
    "        if i != '':\n",
    "            new = i + new\n",
    "    return new\n",
    "\n",
    "password = input(\"Enter a password: \")\n",
    "print(f\"Encoded password is {encrypt(password)}\")\n"
   ]
  },
  {
   "cell_type": "markdown",
   "id": "f00559a8",
   "metadata": {},
   "source": [
    "# Question5:"
   ]
  },
  {
   "cell_type": "code",
   "execution_count": 14,
   "id": "f4debc0e",
   "metadata": {},
   "outputs": [
    {
     "name": "stdout",
     "output_type": "stream",
     "text": [
      "Enter a message: hello\n",
      "hJsAFZFVeVGakVPPlFwXNdsolmMxfNBSo\n"
     ]
    }
   ],
   "source": [
    "import random\n",
    "def encrypt(word):\n",
    "    sum = ''\n",
    "    random_num = random.randint(2, 20)\n",
    "    \n",
    "    for i in word:\n",
    "        random_char = ''\n",
    "        \n",
    "        for j in range(random_num):\n",
    "            \n",
    "            n = random.randint(1,2)\n",
    "            \n",
    "            if n == 1:\n",
    "                random_char += chr(random.randint(97, 122))\n",
    "                \n",
    "            elif n == 2:\n",
    "                random_char += chr(random.randint(65, 90))\n",
    "\n",
    "        if  i != ' ':\n",
    "            sum = sum + i + random_char\n",
    "            \n",
    "        else:\n",
    "            sum += ' '\n",
    "    \n",
    "    new = sum[:-random_num]\n",
    "    \n",
    "    return new, random_num\n",
    "\n",
    "message = input(\"Enter a message: \")\n",
    "\n",
    "encrypted, value = encrypt(message)\n",
    "\n",
    "print(encrypted)"
   ]
  },
  {
   "cell_type": "markdown",
   "id": "9912c967",
   "metadata": {},
   "source": [
    "# Question6:"
   ]
  },
  {
   "cell_type": "code",
   "execution_count": 15,
   "id": "19628c6d",
   "metadata": {},
   "outputs": [
    {
     "name": "stdout",
     "output_type": "stream",
     "text": [
      "hello\n"
     ]
    }
   ],
   "source": [
    "no_space = encrypted.split(\" \")\n",
    "\n",
    "list_word = []\n",
    "\n",
    "for num in range(len(no_space)):\n",
    "    list_word.append(no_space[num])\n",
    "\n",
    "new_word_list = []\n",
    "\n",
    "for k in list_word:\n",
    "    new = ''\n",
    "    for j in range(0, len(k), value+1):\n",
    "        new += k[j]\n",
    "    new_word_list.append(new)\n",
    "    \n",
    "decrypted = ' '.join(new_word_list)\n",
    "\n",
    "print(decrypted)"
   ]
  },
  {
   "cell_type": "code",
   "execution_count": null,
   "id": "22ae3ad5",
   "metadata": {},
   "outputs": [],
   "source": []
  }
 ],
 "metadata": {
  "kernelspec": {
   "display_name": "Python 3 (ipykernel)",
   "language": "python",
   "name": "python3"
  },
  "language_info": {
   "codemirror_mode": {
    "name": "ipython",
    "version": 3
   },
   "file_extension": ".py",
   "mimetype": "text/x-python",
   "name": "python",
   "nbconvert_exporter": "python",
   "pygments_lexer": "ipython3",
   "version": "3.9.13"
  }
 },
 "nbformat": 4,
 "nbformat_minor": 5
}
